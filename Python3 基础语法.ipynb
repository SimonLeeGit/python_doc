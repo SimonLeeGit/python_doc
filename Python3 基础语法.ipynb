{
 "cells": [
  {
   "cell_type": "markdown",
   "metadata": {},
   "source": [
    "# Python3 基础语法"
   ]
  },
  {
   "cell_type": "markdown",
   "metadata": {},
   "source": [
    "## 编码"
   ]
  },
  {
   "cell_type": "markdown",
   "metadata": {},
   "source": [
    "默认情况下，Python 3 源码文件以 UTF-8 编码，所有字符串都是 unicode 字符串。 当然你也可以为源码文件指定不同的编码："
   ]
  },
  {
   "cell_type": "raw",
   "metadata": {},
   "source": [
    "# -*- coding: cp-1252 -*-"
   ]
  },
  {
   "cell_type": "markdown",
   "metadata": {},
   "source": [
    "上述定义允许在源文件中使用 Windows-1252 字符集中的字符编码，对应适合语言为保加利亚语、白罗斯语、马其顿语、俄语、塞尔维亚语。"
   ]
  },
  {
   "cell_type": "markdown",
   "metadata": {},
   "source": [
    "## 标识符"
   ]
  },
  {
   "cell_type": "markdown",
   "metadata": {},
   "source": [
    " - 第一个字符必须是字母表中字母或下划线 _ 。\n",
    " - 标识符的其他的部分由字母、数字和下划线组成。\n",
    " - 标识符对大小写敏感。"
   ]
  },
  {
   "cell_type": "markdown",
   "metadata": {},
   "source": [
    "在 Python 3 中，非 ASCII 标识符也是允许的了。"
   ]
  },
  {
   "cell_type": "markdown",
   "metadata": {},
   "source": [
    "## python保留字"
   ]
  },
  {
   "cell_type": "markdown",
   "metadata": {},
   "source": [
    "保留字即关键字，我们不能把它们用作任何标识符名称。Python 的标准库提供了一个 keyword 模块，可以输出当前版本的所有关键字："
   ]
  },
  {
   "cell_type": "code",
   "execution_count": 1,
   "metadata": {},
   "outputs": [
    {
     "data": {
      "text/plain": [
       "['False',\n",
       " 'None',\n",
       " 'True',\n",
       " 'and',\n",
       " 'as',\n",
       " 'assert',\n",
       " 'async',\n",
       " 'await',\n",
       " 'break',\n",
       " 'class',\n",
       " 'continue',\n",
       " 'def',\n",
       " 'del',\n",
       " 'elif',\n",
       " 'else',\n",
       " 'except',\n",
       " 'finally',\n",
       " 'for',\n",
       " 'from',\n",
       " 'global',\n",
       " 'if',\n",
       " 'import',\n",
       " 'in',\n",
       " 'is',\n",
       " 'lambda',\n",
       " 'nonlocal',\n",
       " 'not',\n",
       " 'or',\n",
       " 'pass',\n",
       " 'raise',\n",
       " 'return',\n",
       " 'try',\n",
       " 'while',\n",
       " 'with',\n",
       " 'yield']"
      ]
     },
     "execution_count": 1,
     "metadata": {},
     "output_type": "execute_result"
    }
   ],
   "source": [
    "import keyword\n",
    "keyword.kwlist"
   ]
  },
  {
   "cell_type": "markdown",
   "metadata": {},
   "source": [
    "## 注释"
   ]
  },
  {
   "cell_type": "markdown",
   "metadata": {},
   "source": [
    "Python中单行注释以 # 开头，实例如下："
   ]
  },
  {
   "cell_type": "code",
   "execution_count": 2,
   "metadata": {},
   "outputs": [
    {
     "name": "stdout",
     "output_type": "stream",
     "text": [
      "Hello, Python!\n"
     ]
    }
   ],
   "source": [
    "#!/usr/bin/python3\n",
    "\n",
    "# 第一个注释\n",
    "print(\"Hello, Python!\") # 第二个注释"
   ]
  },
  {
   "cell_type": "code",
   "execution_count": 3,
   "metadata": {},
   "outputs": [
    {
     "name": "stdout",
     "output_type": "stream",
     "text": [
      "Hello, Python!\n"
     ]
    }
   ],
   "source": [
    "#!/usr/bin/python3\n",
    "\n",
    "# 第一个注释\n",
    "# 第二个注释\n",
    "\n",
    "'''\n",
    "第三个注释\n",
    "第四个注释\n",
    "'''\n",
    "\n",
    "\"\"\"\n",
    "第五个注释\n",
    "第六个注释\n",
    "\"\"\"\n",
    "\n",
    "print(\"Hello, Python!\")"
   ]
  },
  {
   "cell_type": "markdown",
   "metadata": {},
   "source": [
    "## 行与缩进"
   ]
  },
  {
   "cell_type": "markdown",
   "metadata": {},
   "source": [
    "python最具特色的就是使用缩进来表示代码块，不需要使用大括号 {} 。\n",
    "\n",
    "缩进的空格数是可变的，但是同一个代码块的语句必须包含相同的缩进空格数。实例如下："
   ]
  },
  {
   "cell_type": "code",
   "execution_count": 4,
   "metadata": {},
   "outputs": [
    {
     "name": "stdout",
     "output_type": "stream",
     "text": [
      "True\n"
     ]
    }
   ],
   "source": [
    "if True:\n",
    "    print(\"True\")\n",
    "else:\n",
    "    print(\"False\")"
   ]
  },
  {
   "cell_type": "markdown",
   "metadata": {},
   "source": [
    "以下代码最后一行语句缩进数的空格数不一致，会导致运行错误："
   ]
  },
  {
   "cell_type": "code",
   "execution_count": 6,
   "metadata": {},
   "outputs": [
    {
     "ename": "IndentationError",
     "evalue": "unindent does not match any outer indentation level (<tokenize>, line 6)",
     "output_type": "error",
     "traceback": [
      "\u001b[0;36m  File \u001b[0;32m\"<tokenize>\"\u001b[0;36m, line \u001b[0;32m6\u001b[0m\n\u001b[0;31m    print(\"False\") # 缩进不一致会导致运行错误\u001b[0m\n\u001b[0m    ^\u001b[0m\n\u001b[0;31mIndentationError\u001b[0m\u001b[0;31m:\u001b[0m unindent does not match any outer indentation level\n"
     ]
    }
   ],
   "source": [
    "if True:\n",
    "    print(\"Answer\")\n",
    "    print(\"True\")\n",
    "else:\n",
    "    print(\"Answer\")\n",
    "  print(\"False\") # 缩进不一致会导致运行错误"
   ]
  },
  {
   "cell_type": "markdown",
   "metadata": {},
   "source": [
    "## 多行语句"
   ]
  },
  {
   "cell_type": "markdown",
   "metadata": {},
   "source": [
    "Python 通常是一行写完一条语句，但如果语句很长，我们可以使用反斜杠(\\)来实现多行语句，例如："
   ]
  },
  {
   "cell_type": "code",
   "execution_count": 9,
   "metadata": {},
   "outputs": [],
   "source": [
    "item_one = 1\n",
    "item_two = 2\n",
    "item_three = 3\n",
    "\n",
    "total = item_one + \\\n",
    "        item_two + \\\n",
    "        item_three"
   ]
  },
  {
   "cell_type": "markdown",
   "metadata": {},
   "source": [
    "在 [], {}, 或 () 中的多行语句，不需要使用反斜杠(\\)，例如："
   ]
  },
  {
   "cell_type": "code",
   "execution_count": 10,
   "metadata": {},
   "outputs": [],
   "source": [
    "total = ['item_one', 'item_two', 'item_three',\n",
    "         'item_four', 'item_five']"
   ]
  },
  {
   "cell_type": "markdown",
   "metadata": {},
   "source": [
    "## 数字(Number)类型"
   ]
  },
  {
   "cell_type": "markdown",
   "metadata": {},
   "source": [
    "python中数字有四种类型：整数、布尔型、浮点数和复数。"
   ]
  },
  {
   "cell_type": "markdown",
   "metadata": {},
   "source": [
    " - int (整数), 如 1, 只有一种整数类型 int，表示为长整型，没有 python2 中的 Long。\n",
    " - bool (布尔), 如 True。\n",
    " - float (浮点数), 如 1.23、3E-2\n",
    " - complex (复数), 如 1 + 2j、 1.1 + 2.2j"
   ]
  },
  {
   "cell_type": "markdown",
   "metadata": {},
   "source": [
    "## 字符串(String)"
   ]
  },
  {
   "cell_type": "markdown",
   "metadata": {},
   "source": [
    " - python中单引号和双引号使用完全相同。\n",
    " - 使用三引号('''或\"\"\")可以指定一个多行字符串。\n",
    " - 转义符 '\\'\n",
    " - 反斜杠可以用来转义，使用r可以让反斜杠不发生转义。。 如 r\"this is a line with \\n\" 则\\n会显示，并不是换行。\n",
    " - 按字面意义级联字符串，如\"this \" \"is \" \"string\"会被自动转换为this is string。\n",
    " - 字符串可以用 + 运算符连接在一起，用 * 运算符重复。\n",
    " - Python 中的字符串有两种索引方式，从左往右以 0 开始，从右往左以 -1 开始。\n",
    " - Python中的字符串不能改变。\n",
    " - Python 没有单独的字符类型，一个字符就是长度为 1 的字符串。\n",
    " - 字符串的截取的语法格式如下：**变量[头下标:尾下标:步长]**"
   ]
  },
  {
   "cell_type": "code",
   "execution_count": 11,
   "metadata": {},
   "outputs": [],
   "source": [
    "word = '字符串'\n",
    "sentence = \"这是一个句子。\"\n",
    "paragraph = \"\"\"这是一个段落，\n",
    "可以由多行组成\"\"\""
   ]
  },
  {
   "cell_type": "code",
   "execution_count": 12,
   "metadata": {},
   "outputs": [
    {
     "name": "stdout",
     "output_type": "stream",
     "text": [
      "Runoob\n",
      "Runoo\n",
      "R\n",
      "noo\n",
      "noob\n",
      "RunoobRunoob\n",
      "Runoob你好\n",
      "------------------------------\n",
      "Hello\n",
      "runoob\n",
      "Hello\\nrunoob\n"
     ]
    }
   ],
   "source": [
    "#!/usr/bin/python3\n",
    "\n",
    "str = 'Runoob'\n",
    "\n",
    "print(str)                 # 输出字符串\n",
    "print(str[0:-1])           # 输出第一个到倒数第二个的所有字符\n",
    "print(str[0])              # 输出字符串第一个字符\n",
    "print(str[2:5])            # 输出从第三个开始到第五个的字符\n",
    "print(str[2:])             # 输出从第三个开始的后的所有字符\n",
    "print(str * 2)             # 输出字符串两次\n",
    "print(str + '你好')        # 连接字符串\n",
    "\n",
    "print('------------------------------')\n",
    "\n",
    "print('Hello\\nrunoob')     # 使用反斜杠(\\)+n转义特殊字符\n",
    "print(r'Hello\\nrunoob')    # 在字符串前面添加一个 r，表示原始字符串，不会发生转义"
   ]
  },
  {
   "cell_type": "markdown",
   "metadata": {},
   "source": [
    "## 空行"
   ]
  },
  {
   "cell_type": "markdown",
   "metadata": {},
   "source": [
    "函数之间或类的方法之间用空行分隔，表示一段新的代码的开始。类和函数入口之间也用一行空行分隔，以突出函数入口的开始。\n",
    "\n",
    "空行与代码缩进不同，空行并不是Python语法的一部分。书写时不插入空行，Python解释器运行也不会出错。但是空行的作用在于分隔两段不同功能或含义的代码，便于日后代码的维护或重构。\n",
    "\n",
    "**记住**：空行也是程序代码的一部分。"
   ]
  },
  {
   "cell_type": "markdown",
   "metadata": {},
   "source": [
    "## 等待用户输入"
   ]
  },
  {
   "cell_type": "markdown",
   "metadata": {},
   "source": [
    "执行下面的程序在按回车键后就会等待用户输入："
   ]
  },
  {
   "cell_type": "code",
   "execution_count": 13,
   "metadata": {},
   "outputs": [
    {
     "name": "stdout",
     "output_type": "stream",
     "text": [
      "\n",
      "\n",
      "按下 enter 键后退出。\n"
     ]
    },
    {
     "data": {
      "text/plain": [
       "''"
      ]
     },
     "execution_count": 13,
     "metadata": {},
     "output_type": "execute_result"
    }
   ],
   "source": [
    "#!/usr/bin/python3\n",
    "\n",
    "input('\\n\\n按下 enter 键后退出。')"
   ]
  },
  {
   "cell_type": "markdown",
   "metadata": {},
   "source": [
    "## 同一行显示多条语句"
   ]
  },
  {
   "cell_type": "markdown",
   "metadata": {},
   "source": [
    "Python可以在同一行中使用多条语句，语句之间使用分号(;)分割，以下是一个简单的实例："
   ]
  },
  {
   "cell_type": "code",
   "execution_count": 15,
   "metadata": {},
   "outputs": [
    {
     "name": "stdout",
     "output_type": "stream",
     "text": [
      "runoob\n"
     ]
    }
   ],
   "source": [
    "#!/usr/bin/python3\n",
    "\n",
    "import sys; x = 'runoob'; sys.stdout.write(x + '\\n')"
   ]
  },
  {
   "cell_type": "markdown",
   "metadata": {},
   "source": [
    "使用交互式命令行执行，输出结果为："
   ]
  },
  {
   "cell_type": "raw",
   "metadata": {},
   "source": [
    ">>> import sys; x = 'runoob'; sys.stdout.write(x + '\\n')\n",
    "runoob\n",
    "7"
   ]
  },
  {
   "cell_type": "markdown",
   "metadata": {},
   "source": [
    "此处的 7 表示字符数。"
   ]
  },
  {
   "cell_type": "markdown",
   "metadata": {},
   "source": [
    "## 多个语句构成代码组"
   ]
  },
  {
   "cell_type": "markdown",
   "metadata": {},
   "source": [
    "缩进相同的一组语句构成一个代码块，我们称之代码组。\n",
    "\n",
    "像if、while、def和class这样的复合语句，首行以关键字开始，以冒号( : )结束，该行之后的一行或多行代码构成代码组。\n",
    "\n",
    "我们将首行及后面的代码组称为一个子句(clause)。\n",
    "\n",
    "如下实例："
   ]
  },
  {
   "cell_type": "raw",
   "metadata": {},
   "source": [
    "if expression : \n",
    "   suite\n",
    "elif expression : \n",
    "   suite \n",
    "else : \n",
    "   suite"
   ]
  },
  {
   "cell_type": "markdown",
   "metadata": {},
   "source": [
    "## Print 输出\n",
    "print 默认输出是换行的，如果要实现不换行需要在变量末尾加上 end=\"\"："
   ]
  },
  {
   "cell_type": "code",
   "execution_count": 17,
   "metadata": {},
   "outputs": [
    {
     "name": "stdout",
     "output_type": "stream",
     "text": [
      "a\n",
      "b\n",
      "---------\n",
      "a b \n"
     ]
    }
   ],
   "source": [
    "#!/usr/bin/python3\n",
    "\n",
    "x = \"a\"\n",
    "y = \"b\"\n",
    "\n",
    "# 换行输出\n",
    "print(x)\n",
    "print(y)\n",
    "\n",
    "print('---------')\n",
    "\n",
    "# 不换行输出\n",
    "print(x, end = \" \")\n",
    "print(y, end = \" \")\n",
    "print()"
   ]
  },
  {
   "cell_type": "markdown",
   "metadata": {},
   "source": [
    "## import 与 from...import\n",
    "在 python 用 **import** 或者 **from...import** 来导入相应的模块。\n",
    "\n",
    "将整个模块(somemodule)导入，格式为： **import somemodule**\n",
    "\n",
    "从某个模块中导入某个函数,格式为： **from somemodule import somefunction**\n",
    "\n",
    "从某个模块中导入多个函数,格式为： **from somemodule import firstfunc, secondfunc, thirdfunc**\n",
    "\n",
    "将某个模块中的全部函数导入，格式为： **from somemodule import \\***"
   ]
  },
  {
   "cell_type": "code",
   "execution_count": 18,
   "metadata": {},
   "outputs": [
    {
     "name": "stdout",
     "output_type": "stream",
     "text": [
      "================Python import mode==========================\n",
      "命令行参数为:\n",
      "/anaconda3/lib/python3.7/site-packages/ipykernel_launcher.py\n",
      "-f\n",
      "/Users/simonlee/Library/Jupyter/runtime/kernel-1b698d9f-25ee-4944-8678-53ef8cd44928.json\n",
      "\n",
      " python 路径为 ['/Users/simonlee/Public/study', '/anaconda3/lib/python37.zip', '/anaconda3/lib/python3.7', '/anaconda3/lib/python3.7/lib-dynload', '', '/anaconda3/lib/python3.7/site-packages', '/anaconda3/lib/python3.7/site-packages/aeosa', '/anaconda3/lib/python3.7/site-packages/IPython/extensions', '/Users/simonlee/.ipython']\n"
     ]
    }
   ],
   "source": [
    "import sys\n",
    "print('================Python import mode==========================');\n",
    "print ('命令行参数为:')\n",
    "for i in sys.argv:\n",
    "    print(i)\n",
    "print('\\n python 路径为', sys.path)"
   ]
  },
  {
   "cell_type": "code",
   "execution_count": 19,
   "metadata": {},
   "outputs": [
    {
     "name": "stdout",
     "output_type": "stream",
     "text": [
      "================python from import===================================\n",
      "path: ['/Users/simonlee/Public/study', '/anaconda3/lib/python37.zip', '/anaconda3/lib/python3.7', '/anaconda3/lib/python3.7/lib-dynload', '', '/anaconda3/lib/python3.7/site-packages', '/anaconda3/lib/python3.7/site-packages/aeosa', '/anaconda3/lib/python3.7/site-packages/IPython/extensions', '/Users/simonlee/.ipython']\n"
     ]
    }
   ],
   "source": [
    "from sys import argv, path\n",
    "print('================python from import===================================')\n",
    "print('path:',path) # 因为已经导入path成员，所以此处引用时不需要加sys.path"
   ]
  },
  {
   "cell_type": "markdown",
   "metadata": {},
   "source": [
    "## 命令行参数\n",
    "很多程序可以执行一些操作来查看一些基本信息，Python可以使用-h参数查看各参数帮助信息："
   ]
  },
  {
   "cell_type": "raw",
   "metadata": {},
   "source": [
    "$ python -h\n",
    "usage: python [option] ... [-c cmd | -m mod | file | -] [arg] ...\n",
    "Options and arguments (and corresponding environment variables):\n",
    "-c cmd : program passed in as string (terminates option list)\n",
    "-d     : debug output from parser (also PYTHONDEBUG=x)\n",
    "-E     : ignore environment variables (such as PYTHONPATH)\n",
    "-h     : print this help message and exit\n",
    "\n",
    "[ etc. ]"
   ]
  },
  {
   "cell_type": "code",
   "execution_count": null,
   "metadata": {},
   "outputs": [],
   "source": []
  }
 ],
 "metadata": {
  "kernelspec": {
   "display_name": "Python 3",
   "language": "python",
   "name": "python3"
  },
  "language_info": {
   "codemirror_mode": {
    "name": "ipython",
    "version": 3
   },
   "file_extension": ".py",
   "mimetype": "text/x-python",
   "name": "python",
   "nbconvert_exporter": "python",
   "pygments_lexer": "ipython3",
   "version": "3.7.0"
  }
 },
 "nbformat": 4,
 "nbformat_minor": 2
}
