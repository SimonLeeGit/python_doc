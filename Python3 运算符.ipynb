{
 "cells": [
  {
   "cell_type": "markdown",
   "metadata": {},
   "source": [
    "# Python3 运算符"
   ]
  },
  {
   "cell_type": "markdown",
   "metadata": {},
   "source": [
    "# 什么是运算符？\n",
    "\n",
    "本章节主要说明Python的运算符。举个简单的例子 4 +5 = 9 。 例子中，4 和 5 被称为操作数，\"+\" 称为运算符。\n",
    "\n",
    "Python语言支持以下类型的运算符:\n",
    "\n",
    " - 算术运算符\n",
    " - 比较（关系）运算符\n",
    " - 赋值运算符\n",
    " - 逻辑运算符\n",
    " - 位运算符\n",
    " - 成员运算符\n",
    " - 身份运算符\n",
    " - 运算符优先级\n",
    " \n",
    "接下来让我们一个个来学习Python的运算符。\n",
    "***"
   ]
  },
  {
   "cell_type": "markdown",
   "metadata": {},
   "source": [
    "## Python算术运算符\n",
    "\n",
    "以下假设变量a为10，变量b为21：\n",
    "\n",
    "运算符 | 描述 | 实例\n",
    "--|:--:|:--\n",
    "+ | 加 - 两个对象相加                           | a + b 输出结果 31\n",
    "- | 减 - 得到负数或是一个数减去另一个数            | a - b 输出结果 -11\n",
    "* | 乘 - 两个数相乘或是返回一个被重复若干次的字符串  | a * b 输出结果 210\n",
    "/ | 除 - x 除以 y                              | b / a 输出结果 2.1\n",
    "% | 取模 - 返回除法的余数                        | b % a 输出结果 1\n",
    "** | 幂 - 返回x的y次幂                          | a\\*\\*b 为10的21次方\n",
    "// | 取整除 - 向下取接近除数的整数                | b // a 输出结果 2\n",
    "\n",
    "以下实例演示了Python所有算术运算符的操作："
   ]
  },
  {
   "cell_type": "code",
   "execution_count": 2,
   "metadata": {},
   "outputs": [
    {
     "name": "stdout",
     "output_type": "stream",
     "text": [
      "1 - c 的值为  31\n",
      "2 - c 的值为  11\n",
      "3 - c 的值为  210\n",
      "4 - c 的值为  2.1\n",
      "5 - c 的值为  1\n",
      "6 - c 的值为  8\n",
      "7 - c 的值为  2\n"
     ]
    }
   ],
   "source": [
    "#!/usr/bin/python3\n",
    "\n",
    "a = 21\n",
    "b = 10\n",
    "c = 0\n",
    "\n",
    "c = a + b\n",
    "print(\"1 - c 的值为 \", c)\n",
    "\n",
    "c = a - b\n",
    "print(\"2 - c 的值为 \", c)\n",
    "\n",
    "c = a * b\n",
    "print(\"3 - c 的值为 \", c)\n",
    "\n",
    "c = a / b\n",
    "print(\"4 - c 的值为 \", c)\n",
    "\n",
    "c = a % b\n",
    "print(\"5 - c 的值为 \", c)\n",
    "\n",
    "# 修改变量 a, b, c\n",
    "a = 2\n",
    "b = 3\n",
    "c = a ** b\n",
    "print(\"6 - c 的值为 \", c)\n",
    "\n",
    "a = 10\n",
    "b = 5\n",
    "c = a // b\n",
    "print(\"7 - c 的值为 \", c)"
   ]
  },
  {
   "cell_type": "markdown",
   "metadata": {},
   "source": [
    "## Python比较运算符\n",
    "\n",
    "以下假设变量a为10，变量b为20：\n",
    "\n",
    "运算符 | 描述 | 实例\n",
    "--|:--:|:--\n",
    "== | 等于 - 比较对象是否相等 | (a == b) 返回 False。\n",
    "!= | 不等于 - 比较两个对象是否不相等 | (a != b) 返回 True。\n",
    "\\> | 大于 - 返回x是否大于y | (a > b) 返回 False。\n",
    "< | 小于 - 返回x是否小于y。所有比较运算符返回1表示真，返回0表示假。这分别与特殊的变量True和False等价。注意，这些变量名的大写。 | (a < b) 返回 True。\n",
    "\\>= | 大于等于 - 返回x是否大于等于y。 | (a >= b) 返回 False。\n",
    "<= | 小于等于 - 返回x是否小于等于y。 | (a <= b) 返回 True。\n",
    "\n",
    "以下实例演示了Python所有比较运算符的操作："
   ]
  },
  {
   "cell_type": "code",
   "execution_count": 3,
   "metadata": {},
   "outputs": [
    {
     "name": "stdout",
     "output_type": "stream",
     "text": [
      "1 - a 不等于 b\n",
      "2 - a 不等于 b\n",
      "3 - a 大于等于 b\n",
      "4 - a 大于 b\n",
      "5 - a 小于等于 b\n",
      "6 - a 小于 b\n"
     ]
    }
   ],
   "source": [
    "#!/usr/bin/python3\n",
    "\n",
    "a = 21\n",
    "b = 10\n",
    "c = 0\n",
    "\n",
    "if (a == b):\n",
    "    print(\"1 - a 等于 b\")\n",
    "else:\n",
    "    print(\"1 - a 不等于 b\")\n",
    "\n",
    "if (a != b):\n",
    "    print(\"2 - a 不等于 b\")\n",
    "else:\n",
    "    print(\"2 - a 等于 b\")\n",
    "\n",
    "if (a < b):\n",
    "    print(\"3 - a 小于 b\")\n",
    "else:\n",
    "    print(\"3 - a 大于等于 b\")\n",
    "    \n",
    "if (a > b):\n",
    "    print(\"4 - a 大于 b\")\n",
    "else:\n",
    "    print(\"4 - a 小于等于 b\")\n",
    "    \n",
    "# 修改a和b的值\n",
    "a = 5\n",
    "b = 20\n",
    "\n",
    "if (a <= b):\n",
    "    print(\"5 - a 小于等于 b\")\n",
    "else:\n",
    "    print(\"5 - a 大于 b\")\n",
    "    \n",
    "if (a >= b):\n",
    "    print(\"6 - a 大于等于 b\")\n",
    "else:\n",
    "    print(\"6 - a 小于 b\")"
   ]
  },
  {
   "cell_type": "markdown",
   "metadata": {},
   "source": [
    "## Python赋值运算符\n",
    "\n",
    "以下假设变量a为10，变量b为20：\n",
    "\n",
    "运算符 | 描述 | 实例\n",
    "--|:--:|:--\n",
    "= | 简单的赋值运算符 | c = a + b 将 a + b 的运算结果赋值为 c\n",
    "+= | 加法赋值运算符 | c += a 等效于 c = c + a\n",
    "-= | 减法赋值运算符 | c -= a 等效于 c = c - a\n",
    "\\*= | 乘法赋值运算符 | c \\*= a 等效于 c = c \\* a\n",
    "/= | 除法赋值运算符 | c /= a 等效于 c = c / a\n",
    "%= | 取模赋值运算符 | c %= a 等效于 c = c % a\n",
    "\\*\\*= | 幂赋值运算符 | c \\*\\*= a 等效于 c = c \\*\\* a\n",
    "\\\\= | 取整除赋值运算符 | c //= a 等效于 c = c // a\n",
    "\n",
    "以下实例演示了Python所有赋值运算符的操作："
   ]
  },
  {
   "cell_type": "code",
   "execution_count": 4,
   "metadata": {},
   "outputs": [
    {
     "name": "stdout",
     "output_type": "stream",
     "text": [
      "1 - c 的值为  31\n",
      "2 - c 的值为  52\n",
      "3 - c 的值为  1092\n",
      "4 - c 的值为  52.0\n",
      "5 - c 的值为  2\n",
      "6 - c 的值为  2097152\n",
      "7 - c 的值为  99864\n"
     ]
    }
   ],
   "source": [
    "#!/usr/bin/python3\n",
    "\n",
    "a = 21\n",
    "b = 10\n",
    "c = 0\n",
    "\n",
    "c = a + b\n",
    "print(\"1 - c 的值为 \", c)\n",
    "\n",
    "c += a\n",
    "print(\"2 - c 的值为 \", c)\n",
    "\n",
    "c *= a\n",
    "print(\"3 - c 的值为 \", c)\n",
    "\n",
    "c /= a\n",
    "print(\"4 - c 的值为 \", c)\n",
    "\n",
    "c = 2\n",
    "\n",
    "c %= a\n",
    "print(\"5 - c 的值为 \", c)\n",
    "\n",
    "c **= a\n",
    "print(\"6 - c 的值为 \", c)\n",
    "\n",
    "c //= a\n",
    "print(\"7 - c 的值为 \", c)"
   ]
  },
  {
   "cell_type": "markdown",
   "metadata": {},
   "source": [
    "## Python位运算符\n",
    "\n",
    "按位运算符是把数字看作二进制来进行计算的。Python中的按位运算法则如下：\n",
    "\n",
    "下表中变量 a 为 60，b 为 13二进制格式如下："
   ]
  },
  {
   "cell_type": "raw",
   "metadata": {},
   "source": [
    "a = 0011 1100\n",
    "\n",
    "b = 0000 1101\n",
    "\n",
    "-----------------\n",
    "\n",
    "a&b = 0000 1100\n",
    "\n",
    "a|b = 0011 1101\n",
    "\n",
    "a^b = 0011 0001\n",
    "\n",
    "~a  = 1100 0011"
   ]
  },
  {
   "cell_type": "markdown",
   "metadata": {},
   "source": [
    "运算符 | 描述 | 实例\n",
    "--|:--:|:--\n",
    "& | 按位与运算符：参与运算的两个值,如果两个相应位都为1,则该位的结果为1,否则为0 | (a & b) 输出结果 12 ，二进制解释： 0000 1100\n",
    "| | 按位或运算符：只要对应的二个二进位有一个为1时，结果位就为1。 | (a | b) 输出结果 61 ，二进制解释： 0011 1101\n",
    "^ | 按位异或运算符：当两对应的二进位相异时，结果为1 | (a ^ b) 输出结果 49 ，二进制解释： 0011 0001\n",
    "~ | 按位取反运算符：对数据的每个二进制位取反,即把1变为0,把0变为1。~x 类似于 -x-1 | (~a ) 输出结果 -61 ，二进制解释： 1100 0011， 在一个有符号二进制数的补码形式。\n",
    "<< | 左移动运算符：运算数的各二进位全部左移若干位，由\"<<\"右边的数指定移动的位数，高位丢弃，低位补0。 | a << 2 输出结果 240 ，二进制解释： 1111 0000\n",
    "\\>> | 右移动运算符：把\">>\"左边的运算数的各二进位全部右移若干位，\">>\"右边的数指定移动的位数 | a >> 2 输出结果 15 ，二进制解释： 0000 1111\n",
    "\n",
    "以下实例演示了Python所有位运算符的操作："
   ]
  },
  {
   "cell_type": "code",
   "execution_count": 5,
   "metadata": {},
   "outputs": [
    {
     "name": "stdout",
     "output_type": "stream",
     "text": [
      "1 - c 的值为  12\n",
      "2 - c 的值为  61\n",
      "3 - c 的值为  49\n",
      "4 - c 的值为  -61\n",
      "5 - c 的值为  240\n",
      "6 - c 的值为  15\n"
     ]
    }
   ],
   "source": [
    "#!/usr/bin/python3\n",
    "\n",
    "a = 60           # 60 = 0011 1100\n",
    "b = 13           # 13 = 0000 1101\n",
    "c = 0\n",
    "\n",
    "c = a & b        # 12 = 0000 1100\n",
    "print(\"1 - c 的值为 \", c)\n",
    "\n",
    "c = a | b        # 61 = 0011 1101\n",
    "print(\"2 - c 的值为 \", c)\n",
    "\n",
    "c = a ^ b        # 49 = 0011 0001\n",
    "print(\"3 - c 的值为 \", c)\n",
    "\n",
    "c = ~a           # -61 = 1100 0011\n",
    "print(\"4 - c 的值为 \", c)\n",
    "\n",
    "c = a << 2       # 240 = 1111 0000\n",
    "print(\"5 - c 的值为 \", c)\n",
    "\n",
    "c = a >> 2       # 15 = 0000 1111\n",
    "print(\"6 - c 的值为 \", c)"
   ]
  },
  {
   "cell_type": "markdown",
   "metadata": {},
   "source": [
    "## Python逻辑运算符\n",
    "\n",
    "Python语言支持逻辑运算符，以下假设变量 a 为 10, b为 20:\n",
    "\n",
    "运算符 | 逻辑表达式 | 描述 | 实例\n",
    "--|:--:|:--:|:--\n",
    "and | x and y | 布尔\"与\" - 如果 x 为 False，x and y 返回 False，否则它返回 y 的计算值。 | (a and b) 返回 20。\n",
    "or | x or y | 布尔\"或\" - 如果 x 是 True，它返回 x 的值，否则它返回 y 的计算值。 | (a or b) 返回 10。\n",
    "not | not x | 布尔\"非\" - 如果 x 为 True，返回 False 。如果 x 为 False，它返回 True。 | not(a and b) 返回 False"
   ]
  },
  {
   "cell_type": "code",
   "execution_count": 6,
   "metadata": {},
   "outputs": [
    {
     "name": "stdout",
     "output_type": "stream",
     "text": [
      "1 - 变量 a 和 b 都为 True\n",
      "2 - 变量 a 和 b 至少有一个为 True\n",
      "3 - 变量 a 和 b 至少有一个不为 True\n",
      "4 - 变量 a 和 b 至少有一个为 True\n",
      "5 - 变量 a 和 b 至少有一个不为 True\n"
     ]
    }
   ],
   "source": [
    "#!/usr/bin/python3\n",
    "\n",
    "a = 10\n",
    "b = 20\n",
    "\n",
    "if (a and b):\n",
    "    print(\"1 - 变量 a 和 b 都为 True\")\n",
    "else:\n",
    "    print(\"1 - 变量 a 和 b 至少有一个不为 True\")\n",
    "    \n",
    "if (a or b):\n",
    "    print(\"2 - 变量 a 和 b 至少有一个为 True\")\n",
    "else:\n",
    "    print(\"2 - 变量 a 和 b 都不为 True\")\n",
    "    \n",
    "# 修改a的值\n",
    "a = 0\n",
    "\n",
    "if (a and b):\n",
    "    print(\"3 - 变量 a 和 b 都为 True\")\n",
    "else:\n",
    "    print(\"3 - 变量 a 和 b 至少有一个不为 True\")\n",
    "    \n",
    "if (a or b):\n",
    "    print(\"4 - 变量 a 和 b 至少有一个为 True\")\n",
    "else:\n",
    "    print(\"4 - 变量 a 和 b 都不为 True\")\n",
    "    \n",
    "if not (a and b):\n",
    "    print(\"5 - 变量 a 和 b 至少有一个不为 True\")\n",
    "else:\n",
    "    print(\"5 - 变量 a 和 b 都为 True\")"
   ]
  },
  {
   "cell_type": "markdown",
   "metadata": {},
   "source": [
    "## Python成员运算符\n",
    "\n",
    "除了以上的一些运算符之外，Python还支持成员运算符，测试实例中包含了一系列的成员，包括字符串，列表或元组。\n",
    "\n",
    "运算符 | 描述 | 实例\n",
    "--|:--:|:--\n",
    "in | 如果在指定的序列中找到值返回 True，否则返回 False。 | x 在 y 序列中 , 如果 x 在 y 序列中返回 True。\n",
    "not in | 如果在指定的序列中没有找到值返回 True，否则返回 False。 | x 不在 y 序列中 , 如果 x 不在 y 序列中返回 True。\n",
    "\n",
    "以下实例演示了Python所有成员运算符的操作："
   ]
  },
  {
   "cell_type": "code",
   "execution_count": 7,
   "metadata": {},
   "outputs": [
    {
     "name": "stdout",
     "output_type": "stream",
     "text": [
      "1 - 变量 a 不在给定列表 list 中\n",
      "2 - 变量 b 不在给定列表 list 中\n",
      "3 - 变量 a 在给定列表 list 中\n"
     ]
    }
   ],
   "source": [
    "#!/usr/bin/python3\n",
    "\n",
    "a = 10\n",
    "b = 20\n",
    "list = [1,2,3,4,5]\n",
    "\n",
    "if a in list:\n",
    "    print(\"1 - 变量 a 在给定列表 list 中\")\n",
    "else:\n",
    "    print(\"1 - 变量 a 不在给定列表 list 中\") \n",
    "\n",
    "if b not in list:\n",
    "    print(\"2 - 变量 b 不在给定列表 list 中\")\n",
    "else:\n",
    "    print(\"2 - 变量 b 在给定列表 list 中\")\n",
    "    \n",
    "# 修改变量a的值\n",
    "a = 2\n",
    "\n",
    "if a in list:\n",
    "    print(\"3 - 变量 a 在给定列表 list 中\")\n",
    "else:\n",
    "    print(\"3 - 变量 a 不在给定列表 list 中\")"
   ]
  },
  {
   "cell_type": "markdown",
   "metadata": {},
   "source": [
    "## Python身份运算符\n",
    "\n",
    "身份运算符用于比较两个对象的存储单元\n",
    "\n",
    "运算符 | 描述 | 实例\n",
    ":--|:--|--:\n",
    "is | is 是判断两个标识符是不是引用自一个对象 | x is y, 类似 id(x) == id(y) , 如果引用的是同一个对象则返回 True，否则返回 False\n",
    "is not | is not 是判断两个标识符是不是引用自不同对象 | x is not y ， 类似 id(a) != id(b)。如果引用的不是同一个对象则返回结果 True，否则返回 False\n",
    "\n",
    "**注**： id() 函数用于获取对象内存地址。\n",
    "\n",
    "以下实例演示了Python所有身份运算符的操作："
   ]
  },
  {
   "cell_type": "code",
   "execution_count": 8,
   "metadata": {},
   "outputs": [
    {
     "name": "stdout",
     "output_type": "stream",
     "text": [
      "1 - a 和 b 有相同的标识\n",
      "2 - a 和 b 有相同的标识\n",
      "3 - a 和 b 没有相同的标识\n",
      "4 - a 和 b 没有相同的标识\n"
     ]
    }
   ],
   "source": [
    "#!/usr/bin/python3\n",
    "\n",
    "a = 20\n",
    "b = 20\n",
    "\n",
    "if (a is b):\n",
    "    print(\"1 - a 和 b 有相同的标识\")\n",
    "else:\n",
    "    print(\"1 - a 和 b 没有相同的标识\")\n",
    "    \n",
    "if (id(a) == id(b)):\n",
    "    print(\"2 - a 和 b 有相同的标识\")\n",
    "else:\n",
    "    print(\"2 - a 和 b 没有相同的标识\")\n",
    "    \n",
    "# 修改变量b的值\n",
    "b = 30\n",
    "\n",
    "if (a is b):\n",
    "    print(\"3 - a 和 b 有相同的标识\")\n",
    "else:\n",
    "    print(\"3 - a 和 b 没有相同的标识\")\n",
    "    \n",
    "if (a is not b):\n",
    "    print(\"4 - a 和 b 没有相同的标识\")\n",
    "else:\n",
    "    print(\"4 - a 和 b 有相同的标识\")"
   ]
  },
  {
   "cell_type": "markdown",
   "metadata": {},
   "source": [
    "is 与 == 区别：\n",
    "\n",
    "is 用于判断两个变量引用对象是否为同一个， == 用于判断引用变量的值是否相等。"
   ]
  },
  {
   "cell_type": "raw",
   "metadata": {},
   "source": [
    ">>>a = [1, 2, 3]\n",
    ">>> b = a\n",
    ">>> b is a \n",
    "True\n",
    ">>> b == a\n",
    "True\n",
    ">>> b = a[:]\n",
    ">>> b is a\n",
    "False\n",
    ">>> b == a\n",
    "True"
   ]
  },
  {
   "cell_type": "markdown",
   "metadata": {},
   "source": [
    "## Python运算符优先级\n",
    "\n",
    "以下表格列出了从最高到最低优先级的所有运算符：\n",
    "\n",
    "运算符 | 描述\n",
    "--|--\n",
    "** | 指数 (最高优先级)\n",
    "~ + - | 按位翻转, 一元加号和减号 (最后两个的方法名为 +@ 和 -@)\n",
    "\\* / % // | 乘，除，取模和取整除\n",
    "\\+ - | 加法减法\n",
    "\\>> << | 右移，左移运算符\n",
    "& | 位 'AND'\n",
    "^ | | 位运算符\n",
    "<= < > >= | 比较运算符\n",
    "== != | 等于运算符\n",
    "= %= /= //= -= += *= \\**= | 赋值运算符\n",
    "is is not | 身份运算符\n",
    "in not in | 成员运算符\n",
    "and or not | 逻辑运算符\n",
    "\n",
    "以下实例演示了Python所有运算符优先级的操作："
   ]
  },
  {
   "cell_type": "code",
   "execution_count": 9,
   "metadata": {},
   "outputs": [
    {
     "name": "stdout",
     "output_type": "stream",
     "text": [
      "(a + b) * c / d 运算结果为： 90.0\n",
      "((a + b) * c) / d 运算结果为： 90.0\n",
      "(a + b) * (c / d) 运算结果为： 90.0\n",
      "a + (b * c) / d 运算结果为： 50.0\n"
     ]
    }
   ],
   "source": [
    "#!/usr/bin/python3\n",
    "\n",
    "a = 20\n",
    "b = 10\n",
    "c = 15\n",
    "d = 5\n",
    "e = 0\n",
    "\n",
    "e = (a + b) * c / d          #( 30 * 15 ) / 5\n",
    "print(\"(a + b) * c / d 运算结果为：\", e)\n",
    "\n",
    "e = ((a + b) * c) / d        # (30 * 15 ) / 5\n",
    "print(\"((a + b) * c) / d 运算结果为：\", e)\n",
    "\n",
    "e = (a + b) * (c / d)        # (30) * (15/5)\n",
    "print(\"(a + b) * (c / d) 运算结果为：\", e)\n",
    "\n",
    "e = a + (b * c) / d          #  20 + (150/5)\n",
    "print(\"a + (b * c) / d 运算结果为：\", e)"
   ]
  },
  {
   "cell_type": "code",
   "execution_count": null,
   "metadata": {},
   "outputs": [],
   "source": []
  }
 ],
 "metadata": {
  "kernelspec": {
   "display_name": "Python 3",
   "language": "python",
   "name": "python3"
  },
  "language_info": {
   "codemirror_mode": {
    "name": "ipython",
    "version": 3
   },
   "file_extension": ".py",
   "mimetype": "text/x-python",
   "name": "python",
   "nbconvert_exporter": "python",
   "pygments_lexer": "ipython3",
   "version": "3.7.0"
  }
 },
 "nbformat": 4,
 "nbformat_minor": 2
}
