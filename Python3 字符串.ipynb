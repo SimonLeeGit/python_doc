{
 "cells": [
  {
   "cell_type": "markdown",
   "metadata": {},
   "source": [
    "# Python3 字符串"
   ]
  },
  {
   "cell_type": "markdown",
   "metadata": {},
   "source": [
    "字符串是 Python 中最常用的数据类型。我们可以使用引号'或\"来创建字符串。\n",
    "\n",
    "创建字符串很简单，只要为变量分配一个值即可。例如："
   ]
  },
  {
   "cell_type": "raw",
   "metadata": {},
   "source": [
    "var1 = 'Hello World!'\n",
    "var2 = \"Runoob\""
   ]
  },
  {
   "cell_type": "markdown",
   "metadata": {},
   "source": [
    "## Python 访问字符串中的值\n",
    "\n",
    "Python 不支持单字符类型，单字符在 Python 中也是作为一个字符串使用。\n",
    "\n",
    "Python 访问子字符串，可以使用方括号来截取字符串，如下实例："
   ]
  },
  {
   "cell_type": "code",
   "execution_count": 1,
   "metadata": {},
   "outputs": [
    {
     "name": "stdout",
     "output_type": "stream",
     "text": [
      "var1[0]:  H\n",
      "var2[1:5]:  unoo\n"
     ]
    }
   ],
   "source": [
    "#!/usr/bin/python3\n",
    "\n",
    "var1 = 'Hello, world!'\n",
    "var2 = \"Runoob\"\n",
    "\n",
    "print(\"var1[0]: \", var1[0])\n",
    "print(\"var2[1:5]: \", var2[1:5])"
   ]
  },
  {
   "cell_type": "markdown",
   "metadata": {},
   "source": [
    "## Python字符串更新\n",
    "\n",
    "你可以截取字符串的一部分并与其他字段拼接，如下实例："
   ]
  },
  {
   "cell_type": "code",
   "execution_count": 2,
   "metadata": {},
   "outputs": [
    {
     "name": "stdout",
     "output_type": "stream",
     "text": [
      "已更新字符串： Hello,Runoob!\n"
     ]
    }
   ],
   "source": [
    "#!/usr/bin/python3\n",
    "\n",
    "var1 = 'Hello, world!'\n",
    "\n",
    "print(\"已更新字符串：\", var1[:6] + ' Runoob!')"
   ]
  },
  {
   "cell_type": "markdown",
   "metadata": {},
   "source": [
    "## Python转义字符\n",
    "\n",
    "在需要在字符中使用特殊字符时，python用反斜杠(\\)转义字符。如下表：\n",
    "\n",
    "转义字符 | 描述\n",
    "--|--\n",
    "\\(在行结尾时) | 续行符\n",
    "\\\\\\\\ | 反斜杠符号\n",
    "\\\\' | 单引号\n",
    "\\\\\" | 双引号\n",
    "\\\\a | 响铃\n",
    "\\\\b | 退格(Backspace)\n",
    "\\\\000 | 空\n",
    "\\\\n | 换行\n",
    "\\\\v | 纵向制表符\n",
    "\\\\t | 横向制表符\n",
    "\\\\r | 回车\n",
    "\\\\oyy | 八进制数，yy代表的字符，例如：\\\\o12代表换行\n",
    "\\\\xyy | 十六进制数，yy代表的字符，例如：\\x0a代表换行\n",
    "\\\\other | 其它的字符以普通格式输出\n"
   ]
  },
  {
   "cell_type": "code",
   "execution_count": null,
   "metadata": {},
   "outputs": [],
   "source": []
  }
 ],
 "metadata": {
  "kernelspec": {
   "display_name": "Python 3",
   "language": "python",
   "name": "python3"
  },
  "language_info": {
   "codemirror_mode": {
    "name": "ipython",
    "version": 3
   },
   "file_extension": ".py",
   "mimetype": "text/x-python",
   "name": "python",
   "nbconvert_exporter": "python",
   "pygments_lexer": "ipython3",
   "version": "3.7.0"
  }
 },
 "nbformat": 4,
 "nbformat_minor": 2
}
