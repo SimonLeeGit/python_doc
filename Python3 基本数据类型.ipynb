{
 "cells": [
  {
   "cell_type": "markdown",
   "metadata": {},
   "source": [
    "# Python3 基本数据类型"
   ]
  },
  {
   "cell_type": "markdown",
   "metadata": {},
   "source": [
    "Python 中的变量不需要声明。每个变量在使用前都必须赋值，变量赋值以后该变量才会被创建。\n",
    "\n",
    "在 Python 中，变量就是变量，它没有类型，我们所说的\"类型\"是变量所指的内存中对象的类型。\n",
    "\n",
    "等号（=）用来给变量赋值。\n",
    "\n",
    "等号（=）运算符左边是一个变量名,等号（=）运算符右边是存储在变量中的值。例如："
   ]
  },
  {
   "cell_type": "code",
   "execution_count": 1,
   "metadata": {},
   "outputs": [
    {
     "name": "stdout",
     "output_type": "stream",
     "text": [
      "100\n",
      "1000.0\n",
      "runoob\n"
     ]
    }
   ],
   "source": [
    "#!/usr/bin/python3\n",
    "\n",
    "counter = 100     # 整形变量\n",
    "miles = 1000.0    # 浮点变量\n",
    "name = \"runoob\"   # 字符串\n",
    "\n",
    "print(counter)\n",
    "print(miles)\n",
    "print(name)"
   ]
  },
  {
   "cell_type": "markdown",
   "metadata": {},
   "source": [
    "## 多个变量赋值\n",
    "Python允许你同时为多个变量赋值。例如："
   ]
  },
  {
   "cell_type": "code",
   "execution_count": 2,
   "metadata": {},
   "outputs": [],
   "source": [
    "a = b = c = 1"
   ]
  },
  {
   "cell_type": "markdown",
   "metadata": {},
   "source": [
    "以上实例，创建一个整型对象，值为 1，从后向前赋值，三个变量被赋予相同的数值。\n",
    "\n",
    "您也可以为多个对象指定多个变量。例如："
   ]
  },
  {
   "cell_type": "code",
   "execution_count": 3,
   "metadata": {},
   "outputs": [],
   "source": [
    "a, b, c = 1, 2, \"runoob\""
   ]
  },
  {
   "cell_type": "markdown",
   "metadata": {},
   "source": [
    "以上实例，两个整型对象 1 和 2 的分配给变量 a 和 b，字符串对象 \"runoob\" 分配给变量 c。\n",
    "***"
   ]
  },
  {
   "cell_type": "markdown",
   "metadata": {},
   "source": [
    "## 标准数据类型\n",
    "Python3 中有六个标准的数据类型：\n",
    " - Number（数字）\n",
    " - String（字符串\n",
    " - List（列表）\n",
    " - Tuple（元组）\n",
    " - Set（集合）\n",
    " - Dictionary（字典）\n",
    "\n",
    "Python3 的六个标准数据类型中：\n",
    " - **不可变数据（3 个）**：Number（数字）、String（字符串）、Tuple（元组）；\n",
    " - **可变数据（3 个）**：List（列表）、Dictionary（字典）、Set（集合）。\n",
    " ***"
   ]
  },
  {
   "cell_type": "markdown",
   "metadata": {},
   "source": [
    "## Number（数字）\n",
    "Python3 支持 int、float、bool、complex（复数）。\n",
    "\n",
    "在Python 3里，只有一种整数类型 int，表示为长整型，没有 python2 中的 Long。\n",
    "\n",
    "像大多数语言一样，数值类型的赋值和计算都是很直观的。\n",
    "\n",
    "内置的 type() 函数可以用来查询变量所指的对象类型。"
   ]
  },
  {
   "cell_type": "code",
   "execution_count": 4,
   "metadata": {},
   "outputs": [
    {
     "name": "stdout",
     "output_type": "stream",
     "text": [
      "<class 'int'> <class 'float'> <class 'bool'> <class 'complex'>\n"
     ]
    }
   ],
   "source": [
    "a, b, c, d = 20, 5.5, True, 4+3j\n",
    "print(type(a), type(b), type(c), type(d))"
   ]
  },
  {
   "cell_type": "markdown",
   "metadata": {},
   "source": [
    "此外还可以用 isinstance 来判断："
   ]
  },
  {
   "cell_type": "code",
   "execution_count": 5,
   "metadata": {},
   "outputs": [
    {
     "data": {
      "text/plain": [
       "True"
      ]
     },
     "execution_count": 5,
     "metadata": {},
     "output_type": "execute_result"
    }
   ],
   "source": [
    "a = 111\n",
    "isinstance(a, int)"
   ]
  },
  {
   "cell_type": "markdown",
   "metadata": {},
   "source": [
    "isinstance 和 type 的区别在于：\n",
    " - type()不会认为子类是一种父类类型。\n",
    " - isinstance()会认为子类是一种父类类型。"
   ]
  },
  {
   "cell_type": "raw",
   "metadata": {},
   "source": [
    ">>> class A:\n",
    "...     pass\n",
    "... \n",
    ">>> class B(A):\n",
    "...     pass\n",
    "... \n",
    ">>> isinstance(A(), A)\n",
    "True\n",
    ">>> type(A()) == A \n",
    "True\n",
    ">>> isinstance(B(), A)\n",
    "True\n",
    ">>> type(B()) == A\n",
    "False"
   ]
  },
  {
   "cell_type": "markdown",
   "metadata": {},
   "source": [
    ">**注意**：在 Python2 中是没有布尔型的，它用数字 0 表示 False，用 1 表示 True。到 Python3 中，把 True 和 False 定义成关键字了，但它们的值还是 1 和 0，它们可以和数字相加。"
   ]
  },
  {
   "cell_type": "markdown",
   "metadata": {},
   "source": [
    "当你指定一个值时，Number 对象就会被创建："
   ]
  },
  {
   "cell_type": "raw",
   "metadata": {},
   "source": [
    "var1 = 1\n",
    "var2 = 10"
   ]
  },
  {
   "cell_type": "markdown",
   "metadata": {},
   "source": [
    "您也可以使用del语句删除一些对象引用。\n",
    "\n",
    "del语句的语法是："
   ]
  },
  {
   "cell_type": "raw",
   "metadata": {},
   "source": [
    "del var1[,var2[,var3[....,varN]]]"
   ]
  },
  {
   "cell_type": "markdown",
   "metadata": {},
   "source": [
    "您可以通过使用del语句删除单个或多个对象。例如："
   ]
  },
  {
   "cell_type": "raw",
   "metadata": {},
   "source": [
    "del var\n",
    "del var_a, var_b"
   ]
  },
  {
   "cell_type": "markdown",
   "metadata": {},
   "source": [
    "## 数值运算"
   ]
  },
  {
   "cell_type": "code",
   "execution_count": 6,
   "metadata": {},
   "outputs": [
    {
     "data": {
      "text/plain": [
       "9"
      ]
     },
     "execution_count": 6,
     "metadata": {},
     "output_type": "execute_result"
    }
   ],
   "source": [
    "5 + 4    # 加法"
   ]
  },
  {
   "cell_type": "code",
   "execution_count": 7,
   "metadata": {},
   "outputs": [
    {
     "data": {
      "text/plain": [
       "2.3"
      ]
     },
     "execution_count": 7,
     "metadata": {},
     "output_type": "execute_result"
    }
   ],
   "source": [
    "4.3 - 2  # 减法"
   ]
  },
  {
   "cell_type": "code",
   "execution_count": 8,
   "metadata": {},
   "outputs": [
    {
     "data": {
      "text/plain": [
       "21"
      ]
     },
     "execution_count": 8,
     "metadata": {},
     "output_type": "execute_result"
    }
   ],
   "source": [
    "3 * 7    # 乘法"
   ]
  },
  {
   "cell_type": "code",
   "execution_count": 9,
   "metadata": {},
   "outputs": [
    {
     "data": {
      "text/plain": [
       "0.5"
      ]
     },
     "execution_count": 9,
     "metadata": {},
     "output_type": "execute_result"
    }
   ],
   "source": [
    "2 / 4    # 除法，得到一个浮点数"
   ]
  },
  {
   "cell_type": "code",
   "execution_count": 10,
   "metadata": {},
   "outputs": [
    {
     "data": {
      "text/plain": [
       "0"
      ]
     },
     "execution_count": 10,
     "metadata": {},
     "output_type": "execute_result"
    }
   ],
   "source": [
    "2 // 4   # 除法，得到一个整数"
   ]
  },
  {
   "cell_type": "code",
   "execution_count": 11,
   "metadata": {},
   "outputs": [
    {
     "data": {
      "text/plain": [
       "2"
      ]
     },
     "execution_count": 11,
     "metadata": {},
     "output_type": "execute_result"
    }
   ],
   "source": [
    "17 % 3   # 取余"
   ]
  },
  {
   "cell_type": "code",
   "execution_count": 12,
   "metadata": {},
   "outputs": [
    {
     "data": {
      "text/plain": [
       "32"
      ]
     },
     "execution_count": 12,
     "metadata": {},
     "output_type": "execute_result"
    }
   ],
   "source": [
    "2 ** 5   # 乘方"
   ]
  },
  {
   "cell_type": "markdown",
   "metadata": {},
   "source": [
    "**注意**：\n",
    "\n",
    "1. Python可以同时为多个变量赋值，如a, b = 1, 2。\n",
    "2. 一个变量可以通过赋值指向不同类型的对象。\n",
    "3. 数值的除法包含两个运算符：/ 返回一个浮点数，// 返回一个整数。\n",
    "4. 在混合计算时，Python会把整型转换成为浮点数。"
   ]
  },
  {
   "cell_type": "markdown",
   "metadata": {},
   "source": [
    "## 数值类型实例\n",
    "int     |float      |complex\n",
    "--|:--:|--:\n",
    "10      |0.0        |3.14j\n",
    "100     |15.20      |45.j\n",
    "-786    |-21.9      |9.322e-36j\n",
    "080     |32.3e+18   |.876j\n",
    "-0490   |-90.\t    |-.6545+0J\n",
    "-0x260\t|-32.54e100\t|3e+26J\n",
    "0x69\t|70.2E-12\t|4.53e-7j\n",
    "\n",
    "Python还支持复数，复数由实数部分和虚数部分构成，可以用a + bj,或者complex(a,b)表示， 复数的实部a和虚部b都是浮点型\n",
    "***"
   ]
  },
  {
   "cell_type": "markdown",
   "metadata": {},
   "source": [
    "## String（字符串）\n",
    "Python中的字符串用单引号 ' 或双引号 \" 括起来，同时使用反斜杠 \\ 转义特殊字符。\n",
    "\n",
    "字符串的截取的语法格式如下：\n",
    ">变量[头下标:尾下标]\n",
    "\n",
    "索引值以 0 为开始值，-1 为从末尾的开始位置。\n",
    "![string01](http://www.runoob.com/wp-content/uploads/2013/11/o99aU.png \"\")\n",
    "\n",
    "加号 **\\+** 是字符串的连接符， 星号 **\\*** 表示复制当前字符串，紧跟的数字为复制的次数。实例如下："
   ]
  },
  {
   "cell_type": "code",
   "execution_count": 13,
   "metadata": {},
   "outputs": [
    {
     "name": "stdout",
     "output_type": "stream",
     "text": [
      "Runoob\n",
      "Runoo\n",
      "R\n",
      "noo\n",
      "noob\n",
      "RunoobRunoob\n",
      "RunoobTEST\n"
     ]
    }
   ],
   "source": [
    "#!/usr/bin/python3\n",
    "\n",
    "str = 'Runoob'\n",
    "\n",
    "print(str)           # 输出字符串\n",
    "print(str[0:-1])     # 输出第一个到倒数第二个的所有字符\n",
    "print(str[0])        # 输出字符串第一个字符\n",
    "print(str[2:5])      # 输出从第三个开始到第五个的字符\n",
    "print(str[2:])       # 输出从第三个开始的后的所有字符\n",
    "print(str * 2)       # 输出字符串两次\n",
    "print(str + \"TEST\")  # 连接字符串"
   ]
  },
  {
   "cell_type": "markdown",
   "metadata": {},
   "source": [
    "Python 使用反斜杠(\\)转义特殊字符，如果你不想让反斜杠发生转义，可以在字符串前面添加一个 r，表示原始字符串："
   ]
  },
  {
   "cell_type": "code",
   "execution_count": 14,
   "metadata": {},
   "outputs": [
    {
     "name": "stdout",
     "output_type": "stream",
     "text": [
      "Ru\n",
      "oob\n",
      "Ru\\noob\n"
     ]
    }
   ],
   "source": [
    "print(\"Ru\\noob\")\n",
    "print(r\"Ru\\noob\")"
   ]
  },
  {
   "cell_type": "markdown",
   "metadata": {},
   "source": [
    "另外，反斜杠(\\)可以作为续行符，表示下一行是上一行的延续。也可以使用 \"\"\"...\"\"\" 或者 '''...''' 跨越多行。\n",
    "\n",
    "注意，Python 没有单独的字符类型，一个字符就是长度为1的字符串。"
   ]
  },
  {
   "cell_type": "code",
   "execution_count": 15,
   "metadata": {},
   "outputs": [
    {
     "name": "stdout",
     "output_type": "stream",
     "text": [
      "P n\n",
      "n P\n"
     ]
    }
   ],
   "source": [
    "word = \"Python\"\n",
    "print(word[0], word[5])\n",
    "print(word[-1], word[-6])"
   ]
  },
  {
   "cell_type": "markdown",
   "metadata": {},
   "source": [
    "与 C 字符串不同的是，Python 字符串不能被改变。向一个索引位置赋值，比如word[0] = 'm'会导致错误。\n",
    "\n",
    "**注意**：\n",
    "\n",
    "1. 反斜杠可以用来转义，使用r可以让反斜杠不发生转义。\n",
    "2. 字符串可以用+运算符连接在一起，用*运算符重复。\n",
    "3. Python中的字符串有两种索引方式，从左往右以0开始，从右往左以-1开始。\n",
    "4. Python中的字符串不能改变。\n",
    "***"
   ]
  },
  {
   "cell_type": "markdown",
   "metadata": {},
   "source": [
    "## List（列表）\n",
    "List（列表） 是 Python 中使用最频繁的数据类型。\n",
    "\n",
    "列表可以完成大多数集合类的数据结构实现。列表中元素的类型可以不相同，它支持数字，字符串甚至可以包含列表（所谓嵌套）。\n",
    "\n",
    "列表是写在方括号 [] 之间、用逗号分隔开的元素列表。\n",
    "\n",
    "和字符串一样，列表同样可以被索引和截取，列表被截取后返回一个包含所需元素的新列表。\n",
    "\n",
    "列表截取的语法格式如下：\n",
    "\n",
    ">变量[头下标:尾下标]\n",
    "\n",
    "索引值以 0 为开始值，-1 为从末尾的开始位置。\n",
    "\n",
    "![List0](http://www.runoob.com/wp-content/uploads/2013/11/list_slicing1.png \"\")\n",
    "\n",
    "加号 **\\+** 是列表连接运算符，星号 **\\*** 是重复操作。如下实例："
   ]
  },
  {
   "cell_type": "code",
   "execution_count": 16,
   "metadata": {},
   "outputs": [
    {
     "name": "stdout",
     "output_type": "stream",
     "text": [
      "['abcd', 786, 2.23, 'runoob', 70.2]\n",
      "abcd\n",
      "[786, 2.23]\n",
      "[2.23, 'runoob', 70.2]\n",
      "[123, 'runoob', 123, 'runoob']\n",
      "['abcd', 786, 2.23, 'runoob', 70.2, 123, 'runoob']\n"
     ]
    }
   ],
   "source": [
    "#!/usr/bin/python3\n",
    "\n",
    "list = ['abcd', 786, 2.23, 'runoob', 70.2]\n",
    "tinylist = [123, 'runoob']\n",
    "\n",
    "print(list)             # 输出完整列表\n",
    "print(list[0])          # 输出列表第一个元素\n",
    "print(list[1:3])        # 从第二个开始输出到第三个元素\n",
    "print(list[2:])         # 输出从第三个元素开始的所有元素\n",
    "print(tinylist * 2)     # 输出两次列表\n",
    "print(list + tinylist)  # 连接列表"
   ]
  },
  {
   "cell_type": "markdown",
   "metadata": {},
   "source": [
    "与Python字符串不一样的是，列表中的元素是可以改变的："
   ]
  },
  {
   "cell_type": "code",
   "execution_count": 17,
   "metadata": {},
   "outputs": [
    {
     "name": "stdout",
     "output_type": "stream",
     "text": [
      "[9, 2, 13, 14, 15, 6]\n",
      "[9, 2, 6]\n"
     ]
    }
   ],
   "source": [
    "a = [1, 2, 3, 4, 5, 6]\n",
    "a[0] = 9\n",
    "a[2:5] = [13, 14, 15]\n",
    "print(a)\n",
    "a[2:5] = []\n",
    "print(a)"
   ]
  },
  {
   "cell_type": "markdown",
   "metadata": {},
   "source": [
    "List内置了有很多方法，例如append()、pop()等等，这在后面会讲到。\n",
    "\n",
    "**注意**：\n",
    "\n",
    "1. List写在方括号之间，元素用逗号隔开。\n",
    "2. 和字符串一样，list可以被索引和切片。\n",
    "3. List可以使用+操作符进行拼接。\n",
    "4. List中的元素是可以改变的。\n",
    "\n",
    "***"
   ]
  },
  {
   "cell_type": "markdown",
   "metadata": {},
   "source": [
    "## Tuple（元组）\n",
    "元组（tuple）与列表类似，不同之处在于元组的元素不能修改。元组写在小括号 **()** 里，元素之间用逗号隔开。\n",
    "\n",
    "元组中的元素类型也可以不相同："
   ]
  },
  {
   "cell_type": "code",
   "execution_count": 18,
   "metadata": {},
   "outputs": [
    {
     "name": "stdout",
     "output_type": "stream",
     "text": [
      "('abcd', 768, 2.23, 'runoob', 70.2)\n",
      "abcd\n",
      "(768, 2.23)\n",
      "(2.23, 'runoob', 70.2)\n",
      "(123, 'runoob', 123, 'runoob')\n",
      "('abcd', 768, 2.23, 'runoob', 70.2, 123, 'runoob')\n"
     ]
    }
   ],
   "source": [
    "#!/usr/bin/python3\n",
    "\n",
    "tuple = ('abcd', 768, 2.23, 'runoob', 70.2)\n",
    "tinytuple = (123, 'runoob')\n",
    "\n",
    "print(tuple)               # 输出完整元组\n",
    "print(tuple[0])            # 输出元组的第一个元素\n",
    "print(tuple[1:3])          # 输出从第二个元素开始到第三个元素\n",
    "print(tuple[2:])           # 输出从第三个元素开始的所有元素\n",
    "print(tinytuple * 2)       # 输出两次元组\n",
    "print(tuple + tinytuple)   # 连接元组"
   ]
  },
  {
   "cell_type": "markdown",
   "metadata": {},
   "source": [
    "元组与字符串类似，可以被索引且下标索引从0开始，-1 为从末尾开始的位置。也可以进行截取（看上面，这里不再赘述）。\n",
    "\n",
    "其实，可以把字符串看作一种特殊的元组。"
   ]
  },
  {
   "cell_type": "code",
   "execution_count": 19,
   "metadata": {},
   "outputs": [
    {
     "name": "stdout",
     "output_type": "stream",
     "text": [
      "1\n",
      "(2, 3, 4, 5)\n"
     ]
    },
    {
     "ename": "TypeError",
     "evalue": "'tuple' object does not support item assignment",
     "output_type": "error",
     "traceback": [
      "\u001b[0;31m---------------------------------------------------------------------------\u001b[0m",
      "\u001b[0;31mTypeError\u001b[0m                                 Traceback (most recent call last)",
      "\u001b[0;32m<ipython-input-19-a4842d56ee3b>\u001b[0m in \u001b[0;36m<module>\u001b[0;34m\u001b[0m\n\u001b[1;32m      2\u001b[0m \u001b[0mprint\u001b[0m\u001b[0;34m(\u001b[0m\u001b[0mtup\u001b[0m\u001b[0;34m[\u001b[0m\u001b[0;36m0\u001b[0m\u001b[0;34m]\u001b[0m\u001b[0;34m)\u001b[0m\u001b[0;34m\u001b[0m\u001b[0m\n\u001b[1;32m      3\u001b[0m \u001b[0mprint\u001b[0m\u001b[0;34m(\u001b[0m\u001b[0mtup\u001b[0m\u001b[0;34m[\u001b[0m\u001b[0;36m1\u001b[0m\u001b[0;34m:\u001b[0m\u001b[0;36m5\u001b[0m\u001b[0;34m]\u001b[0m\u001b[0;34m)\u001b[0m\u001b[0;34m\u001b[0m\u001b[0m\n\u001b[0;32m----> 4\u001b[0;31m \u001b[0mtup\u001b[0m\u001b[0;34m[\u001b[0m\u001b[0;36m0\u001b[0m\u001b[0;34m]\u001b[0m \u001b[0;34m=\u001b[0m \u001b[0;36m11\u001b[0m    \u001b[0;31m# 修改元组元素的操作是非法的\u001b[0m\u001b[0;34m\u001b[0m\u001b[0m\n\u001b[0m",
      "\u001b[0;31mTypeError\u001b[0m: 'tuple' object does not support item assignment"
     ]
    }
   ],
   "source": [
    "tup = (1, 2, 3, 4, 5, 6)\n",
    "print(tup[0])\n",
    "print(tup[1:5])\n",
    "tup[0] = 11    # 修改元组元素的操作是非法的"
   ]
  },
  {
   "cell_type": "markdown",
   "metadata": {},
   "source": [
    "虽然tuple的元素不可改变，但它可以包含可变的对象，比如list列表。\n",
    "\n",
    "构造包含 0 个或 1 个元素的元组比较特殊，所以有一些额外的语法规则："
   ]
  },
  {
   "cell_type": "code",
   "execution_count": 20,
   "metadata": {},
   "outputs": [],
   "source": [
    "tup1 = ()     # 空元组\n",
    "tup2 = (20,)  # 一个元素，需要在元素后添加逗号"
   ]
  },
  {
   "cell_type": "markdown",
   "metadata": {},
   "source": [
    "string、list和tuple都属于sequence（序列）。\n",
    "\n",
    "**注意**：\n",
    "\n",
    "1. 与字符串一样，元组的元素不能修改。\n",
    "2. 元组也可以被索引和切片，方法一样。\n",
    "3. 注意构造包含0或1个元素的元组的特殊语法规则。\n",
    "4. 元组也可以使用+操作符进行拼接。\n",
    "\n",
    "***"
   ]
  },
  {
   "cell_type": "markdown",
   "metadata": {},
   "source": [
    "## Set（集合）\n",
    "集合（set）是由一个或数个形态各异的大小整体组成的，构成集合的事物或对象称作元素或是成员。\n",
    "\n",
    "基本功能是进行成员关系测试和删除重复元素。\n",
    "\n",
    "可以使用大括号 { } 或者 set() 函数创建集合，注意：创建一个空集合必须用 set() 而不是 { }，因为 { } 是用来创建一个空字典。\n",
    "\n",
    "创建格式："
   ]
  },
  {
   "cell_type": "raw",
   "metadata": {},
   "source": [
    "parame = {value01,value02,...}\n",
    "或者\n",
    "set(value)"
   ]
  },
  {
   "cell_type": "code",
   "execution_count": 21,
   "metadata": {},
   "outputs": [
    {
     "name": "stdout",
     "output_type": "stream",
     "text": [
      "{'Jack', 'Rose', 'Tom', 'Mary', 'Jim'}\n",
      "Rose 在集合中\n",
      "{'d', 'r', 'a', 'c', 'b'}\n",
      "{'d', 'r', 'b'}\n",
      "{'d', 'r', 'a', 'l', 'm', 'c', 'b', 'z'}\n",
      "{'c', 'a'}\n",
      "{'d', 'b', 'l', 'z', 'r', 'm'}\n"
     ]
    }
   ],
   "source": [
    "#!/usr/bin/python3\n",
    "\n",
    "student = {'Tom', 'Jim', 'Mary', 'Tom', 'Jack', 'Rose'}\n",
    "print(student)     # 输出集合，重复的元素被自动去掉\n",
    "\n",
    "# 成员测试\n",
    "if \"Rose\" in student:\n",
    "    print(\"Rose 在集合中\")\n",
    "else:\n",
    "    print(\"Rose 不在集合中\")\n",
    "    \n",
    "# set可以进行集合运算\n",
    "a = set('abracadabra')\n",
    "b = set('alacazam')\n",
    "\n",
    "print(a)\n",
    "print(a - b)   # a 和 b 的差集\n",
    "print(a | b)   # a 和 b 的并集\n",
    "print(a & b)   # a 和 b 的交集\n",
    "print(a ^ b)   # a 和 b 中不同时存在的元素"
   ]
  },
  {
   "cell_type": "markdown",
   "metadata": {},
   "source": [
    "## Dictionary（字典）\n",
    "字典（dictionary）是Python中另一个非常有用的内置数据类型。\n",
    "\n",
    "列表是有序的对象集合，字典是无序的对象集合。两者之间的区别在于：字典当中的元素是通过键来存取的，而不是通过偏移存取。\n",
    "\n",
    "字典是一种映射类型，字典用\"{ }\"标识，它是一个无序的键(key) : 值(value)对集合。\n",
    "\n",
    "键(key)必须使用不可变类型。\n",
    "\n",
    "在同一个字典中，键(key)必须是唯一的。"
   ]
  },
  {
   "cell_type": "code",
   "execution_count": 22,
   "metadata": {},
   "outputs": [
    {
     "name": "stdout",
     "output_type": "stream",
     "text": [
      "1 - 菜鸟教程\n",
      "2 - 菜鸟工具\n",
      "{'name': 'runoob', 'code': 1, 'site': 'www.runoob.com'}\n",
      "dict_keys(['name', 'code', 'site'])\n",
      "dict_values(['runoob', 1, 'www.runoob.com'])\n"
     ]
    }
   ],
   "source": [
    "#!/usr/bin/python3\n",
    "\n",
    "dict = {}\n",
    "dict['one'] = '1 - 菜鸟教程'\n",
    "dict[2]     = '2 - 菜鸟工具'\n",
    "\n",
    "tinydict = {'name': 'runoob', 'code': 1, 'site': 'www.runoob.com'}\n",
    "\n",
    "print(dict['one'])         # 输出键为 'one' 的值\n",
    "print(dict[2])             # 输出键为 2 的值\n",
    "print(tinydict)            # 输出完整的字典\n",
    "print(tinydict.keys())     # 输出所有键\n",
    "print(tinydict.values())   # 输出所有值"
   ]
  },
  {
   "cell_type": "markdown",
   "metadata": {},
   "source": [
    "构造函数 dict() 可以直接从键值对序列中构建字典如下："
   ]
  },
  {
   "cell_type": "code",
   "execution_count": 25,
   "metadata": {},
   "outputs": [
    {
     "data": {
      "text/plain": [
       "{2: 4, 4: 16, 6: 36}"
      ]
     },
     "execution_count": 25,
     "metadata": {},
     "output_type": "execute_result"
    }
   ],
   "source": [
    "{x: x**2 for x in (2, 4, 6)}"
   ]
  },
  {
   "cell_type": "markdown",
   "metadata": {},
   "source": [
    "另外，字典类型也有一些内置的函数，例如clear()、keys()、values()等。\n",
    "\n",
    "**注意**：\n",
    "\n",
    "1. 字典是一种映射类型，它的元素是键值对。\n",
    "2. 字典的关键字必须为不可变类型，且不能重复。\n",
    "3. 创建空字典使用 { }。\n",
    "\n",
    "***"
   ]
  },
  {
   "cell_type": "markdown",
   "metadata": {},
   "source": [
    "## Python数据类型转换\n",
    "有时候，我们需要对数据内置的类型进行转换，数据类型的转换，你只需要将数据类型作为函数名即可。\n",
    "\n",
    "以下几个内置的函数可以执行数据类型之间的转换。这些函数返回一个新的对象，表示转换的值。\n",
    "\n",
    "函数|描述\n",
    "--|:--:\n",
    "int(x [,base])        |将x转换为一个整数\n",
    "float(x)              |将x转换到一个浮点数\n",
    "complex(real [,imag]) |创建一个复数\n",
    "str(x)                |将对象 x 转换为字符串\n",
    "repr(x)               |将对象 x 转换为表达式字符串\n",
    "eval(str)             |用来计算在字符串中的有效Python表达式,并返回一个对象\n",
    "tuple(s)              |将序列 s 转换为一个元组\n",
    "list(s)               |将序列 s 转换为一个列表\n",
    "set(s)                |转换为可变集合\n",
    "dict(d)               |创建一个字典。d 必须是一个序列 (key,value)元组。\n",
    "frozenset(s)          |转换为不可变集合\n",
    "chr(x)                |将一个整数转换为一个字符\n",
    "ord(x)                |将一个字符转换为它的整数值\n",
    "hex(x)                |将一个整数转换为一个十六进制字符串\n",
    "oct(x)                |将一个整数转换为一个八进制字符串"
   ]
  },
  {
   "cell_type": "code",
   "execution_count": null,
   "metadata": {},
   "outputs": [],
   "source": []
  }
 ],
 "metadata": {
  "kernelspec": {
   "display_name": "Python 3",
   "language": "python",
   "name": "python3"
  },
  "language_info": {
   "codemirror_mode": {
    "name": "ipython",
    "version": 3
   },
   "file_extension": ".py",
   "mimetype": "text/x-python",
   "name": "python",
   "nbconvert_exporter": "python",
   "pygments_lexer": "ipython3",
   "version": "3.7.0"
  }
 },
 "nbformat": 4,
 "nbformat_minor": 2
}
